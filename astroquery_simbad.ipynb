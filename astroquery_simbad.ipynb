{
 "cells": [
  {
   "cell_type": "code",
   "execution_count": 1,
   "id": "308a9099",
   "metadata": {},
   "outputs": [],
   "source": [
    "from astroquery.simbad import Simbad\n",
    "import polars as pl\n",
    "import astropy.units as u\n",
    "from astropy.coordinates import SkyCoord\n",
    "from exosky._data.constellation_schemas import read_constellations, Constellation"
   ]
  },
  {
   "cell_type": "code",
   "execution_count": 2,
   "id": "4731c921",
   "metadata": {},
   "outputs": [],
   "source": [
    "constellations = read_constellations()\n"
   ]
  },
  {
   "cell_type": "code",
   "execution_count": 5,
   "id": "ff158ea3",
   "metadata": {},
   "outputs": [],
   "source": [
    "names = constellations[\"Ursa Major\"].stars"
   ]
  },
  {
   "cell_type": "code",
   "execution_count": 17,
   "id": "f8b8f773",
   "metadata": {},
   "outputs": [],
   "source": [
    "Simbad.add_votable_fields(\"flux(V)\", \"ra\", \"dec\")\n",
    "result = Simbad.query_objects(names)"
   ]
  },
  {
   "cell_type": "code",
   "execution_count": 18,
   "id": "74918523",
   "metadata": {},
   "outputs": [
    {
     "name": "stdout",
     "output_type": "stream",
     "text": [
      "  MAIN_ID         RA           DEC      ...     DEC_3     SCRIPT_NUMBER_ID\n",
      "               \"h:m:s\"       \"d:m:s\"    ...    \"d:m:s\"                    \n",
      "----------- ------------- ------------- ... ------------- ----------------\n",
      "  * chi UMa 11 46 03.0140 +47 46 45.855 ... +47 46 45.855                1\n",
      "    * h UMa 09 31 31.7080 +63 03 42.695 ... +63 03 42.695                2\n",
      "  * gam UMa 11 53 49.8473 +53 41 41.135 ... +53 41 41.135                3\n",
      "  * ksi UMa 11 18 10.9318 +31 31 45.440 ... +31 31 45.440                4\n",
      "  * alf UMa 11 03 43.6715 +61 45 03.724 ... +61 45 03.724                5\n",
      "  * tet UMa 09 32 51.4309 +51 40 38.333 ... +51 40 38.333                6\n",
      "  * kap UMa 09 03 37.5276 +47 09 23.489 ... +47 09 23.489                7\n",
      "  * nu. UMa 11 18 28.7372 +33 05 39.501 ... +33 05 39.501                8\n",
      "  * mu. UMa 10 22 19.7276 +41 29 58.337 ... +41 29 58.337                9\n",
      "  * ups UMa 09 50 59.3580 +59 02 19.441 ... +59 02 19.441               10\n",
      "  * psi UMa 11 09 39.8082 +44 29 54.555 ... +44 29 54.555               11\n",
      "  * eps UMa 12 54 01.7495 +55 57 35.362 ... +55 57 35.362               12\n",
      "  * eta UMa 13 47 32.4377 +49 18 47.760 ... +49 18 47.760               13\n",
      "* zet01 UMa 13 23 55.5422 +54 55 31.295 ... +54 55 31.295               14\n",
      "  * del UMa 12 15 25.5598 +57 01 57.421 ... +57 01 57.421               15\n",
      "  * bet UMa 11 01 50.4797 +56 22 56.761 ... +56 22 56.761               16\n",
      "  * omi UMa 08 30 15.8701 +60 43 05.405 ... +60 43 05.405               17\n",
      "  * lam UMa 10 17 05.7792 +42 54 51.889 ... +42 54 51.889               18\n",
      "  * iot UMa 08 59 12.4536 +48 02 30.574 ... +48 02 30.574               19\n"
     ]
    }
   ],
   "source": [
    "print(result)"
   ]
  },
  {
   "cell_type": "code",
   "execution_count": 20,
   "id": "b048ab4d",
   "metadata": {},
   "outputs": [
    {
     "name": "stdout",
     "output_type": "stream",
     "text": [
      "<SkyCoord (ICRS): (ra, dec) in deg\n",
      "    (176.51255833, 47.77940417)>\n",
      "<SkyCoord (ICRS): (ra, dec) in deg\n",
      "    (142.88211667, 63.06185972)>\n",
      "<SkyCoord (ICRS): (ra, dec) in deg\n",
      "    (178.45769708, 53.69475972)>\n",
      "<SkyCoord (ICRS): (ra, dec) in deg\n",
      "    (169.54554917, 31.52928889)>\n",
      "<SkyCoord (ICRS): (ra, dec) in deg\n",
      "    (165.93196458, 61.75103444)>\n",
      "<SkyCoord (ICRS): (ra, dec) in deg\n",
      "    (143.21429542, 51.67731472)>\n",
      "<SkyCoord (ICRS): (ra, dec) in deg\n",
      "    (135.906365, 47.15652472)>\n",
      "<SkyCoord (ICRS): (ra, dec) in deg\n",
      "    (169.61973833, 33.09430583)>\n",
      "<SkyCoord (ICRS): (ra, dec) in deg\n",
      "    (155.58219833, 41.49953806)>\n",
      "<SkyCoord (ICRS): (ra, dec) in deg\n",
      "    (147.747325, 59.03873361)>\n",
      "<SkyCoord (ICRS): (ra, dec) in deg\n",
      "    (167.4158675, 44.4984875)>\n",
      "<SkyCoord (ICRS): (ra, dec) in deg\n",
      "    (193.50728958, 55.95982278)>\n",
      "<SkyCoord (ICRS): (ra, dec) in deg\n",
      "    (206.88515708, 49.31326667)>\n",
      "<SkyCoord (ICRS): (ra, dec) in deg\n",
      "    (200.98142583, 54.92535972)>\n",
      "<SkyCoord (ICRS): (ra, dec) in deg\n",
      "    (183.85649917, 57.03261694)>\n",
      "<SkyCoord (ICRS): (ra, dec) in deg\n",
      "    (165.46033208, 56.38243361)>\n",
      "<SkyCoord (ICRS): (ra, dec) in deg\n",
      "    (127.56612542, 60.71816806)>\n",
      "<SkyCoord (ICRS): (ra, dec) in deg\n",
      "    (154.27408, 42.91441361)>\n",
      "<SkyCoord (ICRS): (ra, dec) in deg\n",
      "    (134.80189, 48.04182611)>\n"
     ]
    }
   ],
   "source": [
    "coords = SkyCoord(ra=result[\"RA\"], dec=result[\"DEC\"], unit=(u.hourangle, u.deg))\n",
    "# print(coords)\n",
    "for coord in coords:\n",
    "    print(coord)"
   ]
  },
  {
   "cell_type": "code",
   "execution_count": 28,
   "id": "bd7a9080",
   "metadata": {},
   "outputs": [
    {
     "name": "stdout",
     "output_type": "stream",
     "text": [
      "[* chi UMa]\tRA=176.5126 deg, DEC=47.7794 deg, MAG=3.7200\n",
      "[* h UMa]\tRA=142.8821 deg, DEC=63.0619 deg, MAG=3.6700\n",
      "[* gam UMa]\tRA=178.4577 deg, DEC=53.6948 deg, MAG=2.4400\n",
      "[* ksi UMa]\tRA=169.5455 deg, DEC=31.5293 deg, MAG=3.7900\n",
      "[* alf UMa]\tRA=165.9320 deg, DEC=61.7510 deg, MAG=1.7900\n",
      "[* tet UMa]\tRA=143.2143 deg, DEC=51.6773 deg, MAG=3.1800\n",
      "[* kap UMa]\tRA=135.9064 deg, DEC=47.1565 deg, MAG=3.5500\n",
      "[* nu. UMa]\tRA=169.6197 deg, DEC=33.0943 deg, MAG=3.4900\n",
      "[* mu. UMa]\tRA=155.5822 deg, DEC=41.4995 deg, MAG=3.0500\n",
      "[* ups UMa]\tRA=147.7473 deg, DEC=59.0387 deg, MAG=3.8100\n",
      "[* psi UMa]\tRA=167.4159 deg, DEC=44.4985 deg, MAG=3.0100\n",
      "[* eps UMa]\tRA=193.5073 deg, DEC=55.9598 deg, MAG=1.7700\n",
      "[* eta UMa]\tRA=206.8852 deg, DEC=49.3133 deg, MAG=1.8600\n",
      "[* zet01 UMa]\tRA=200.9814 deg, DEC=54.9254 deg, MAG=2.2200\n",
      "[* del UMa]\tRA=183.8565 deg, DEC=57.0326 deg, MAG=3.3200\n",
      "[* bet UMa]\tRA=165.4603 deg, DEC=56.3824 deg, MAG=2.3700\n",
      "[* omi UMa]\tRA=127.5661 deg, DEC=60.7182 deg, MAG=3.4200\n",
      "[* lam UMa]\tRA=154.2741 deg, DEC=42.9144 deg, MAG=3.4500\n",
      "[* iot UMa]\tRA=134.8019 deg, DEC=48.0418 deg, MAG=3.1400\n"
     ]
    }
   ],
   "source": [
    "for (name, mag), coord in zip(result[\"MAIN_ID\", \"FLUX_V\"], coords):\n",
    "    print(f\"[{name}]\\tRA={coord.ra:.4f}, DEC={coord.dec:.4f}, MAG={mag:.4f}\")"
   ]
  },
  {
   "cell_type": "code",
   "execution_count": 16,
   "id": "eed1d99f",
   "metadata": {},
   "outputs": [
    {
     "name": "stdout",
     "output_type": "stream",
     "text": [
      "['nu. And', 'lam And', 'mu. And', 'eta And', 'pi. And', 'alf And', 'del And', 'zet And', 'gam01 And', 'sig And', 'eps And', 'bet And', 'iot And', 'ups Per', 'phi And', 'kap And', 'omi And', 'iot Ant', 'alf Ant', 'eps Ant', 'gam Aps', 'del01 Aps', 'alf Aps', 'bet Aps', 'tet Aql', 'eps Aql', 'bet Aql', 'iot Aql', 'lam Aql', 'gam Aql', 'zet Aql', 'eta Aql', 'i Aql', 'alf Aql', 'del Aql', 'phi Aqr', 'del Aqr', 'tet Aqr', 'pi. Aqr', 'zet01 Aqr', 'bet Aqr', 'tau Aqr', 'b01 Aqr', 'iot Aqr', 'psi02 Aqr', 'lam Aqr', 'eta Aqr', 'c02 Aqr', 'gam Aqr', 'eps Aqr', 'alf Aqr', 'del Ara', 'alf Ara', 'tet Ara', 'gam Ara', 'zet Ara', 'eta Ara', 'eps01 Ara', 'bet Ara', 'alf Ari', ' 41 Ari', 'bet Ari', 'gam01 Ari', 'tet Aur', 'eps Aur', 'iot Aur', 'bet Tau', 'eta Aur', 'bet Aur', 'del Aur', 'alf Aur', 'zet Aur', 'eps Boo', 'tet Boo', 'zet Boo', 'del Boo', 'tau Boo', 'lam Boo', 'alf Boo', 'gam Boo', 'rho Boo', 'eta Boo', 'bet Boo', 'kap02 Boo', 'del Cae', 'bet Cae', 'gam Cae', 'alf Cae', 'HD  49878', 'VBE Cam', 'HD  21291', 'HD  42818', 'alf Cam', '  7 Cam', 'bet Cam', 'gam Cam', 'iot Cnc', 'del Cnc', 'bet Cnc', 'alf Cnc', 'gam Cnc', 'tet CMa', 'eps CMa', 'alf CMa', 'iot CMa', 'gam CMa', 'del CMa', 'omi01 CMa', 'bet CMa', 'eta CMa', 'nu.02 CMa', 'bet CMi', 'alf CMi', 'eps Cap', 'alf02 Cap', 'tet Cap', 'gam Cap', 'zet Cap', 'psi Cap', 'del Cap', 'ome Cap', 'bet01 Cap', 'y Car', 'z Car', 'gam02 Vel', 'alf Car', 'q Car', 'x Car', 'tet Car', 'ome Car', 'iot Car', 'p Car', 'del Vel', 'bet Car', 'u Car', 'chi Car', 'eps Car', 'bet Cas', 'eps Cas', 'gam Cas', 'alf Cas', 'del Cas', 'pi. Cen', 'tet Cen', 'gam Cen', 'd Cen', 'psi Cen', 'zet Cen', 'eps Cen', 'ups01 Cen', 'bet Cen', 'omi01 Cen', 'phi Cen', 'eta Cen', 'sig Cen', 'kap Cen', 'rho Cen', 'chi Cen', 'iot Cen', 'del Cen', 'nu. Cen', 'l Cen', 'alf Cen A', 'mu. Cep', 'tet Cep', 'gam Cep', 'zet Cep', 'bet Cep', 'del Cep', 'eta Cep', 'iot Cep', 'eps Cep', 'alf Cep', 'del Cet', 'iot Cet', 'zet Cet', 'omi Cet', 'alf Cet', 'mu. Cet', 'lam Cet', 'gam Cet', 'ksi02 Cet', 'tau Cet', 'eta Cet', 'tet Cet', 'bet Cet', 'del02 Cha', 'eps Cha', 'bet Cha', 'alf Cha', 'gam Cha', 'bet Cir', 'alf Cir', 'gam Cir', 'gam Col', 'eps Col', 'alf Col', 'bet Col', 'eta Col', 'del Col', 'bet Com', 'alf Com', 'gam Com', 'bet CrA', 'tet CrA', 'del CrA', 'alf CrA', 'gam CrA', 'alf CrB', 'bet CrB', 'del CrB', 'eps CrB', 'tet CrB', 'iot CrB', 'gam CrB A', 'eps Crv', 'gam Crv', 'del Crv', 'alf Crv', 'bet Crv', 'bet Crt', 'del Crt', 'tet Crt', 'eta Crt', 'zet Crt', 'gam Crt', 'alf Crt', 'eps Crt', 'alf01 Cru', 'bet Cru', 'del Cru', 'gam Cru', 'bet CVn', 'alf02 CVn', 'kap Cyg', 'nu. Cyg', 'zet Cyg', 'alf Cyg', 'gam Cyg', 'eps Cyg', 'omi02 Cyg', 'iot Cyg', 'bet Cyg A', 'del Cyg', 'bet Del', 'eps Del', 'del Del', 'alf Del', 'gam02 Del', 'gam Dor', 'HD  40409', 'bet Dor', 'zet Dor', 'del Dor', 'alf Dor', 'eta Dra', 'phi Dra', 'bet Dra', 'nu.02 Dra', 'eps Dra', 'lam Dra', 'gam Dra', 'kap Dra', 'del Dra', 'iot Dra', 'zet Dra', 'ksi Dra', 'alf Dra', 'tet Dra', 'chi Dra', 'del Equ', 'alf Equ', 'gam Equ', 'y Eri', 'tau08 Eri', 'tau06 Eri', 'mu. Eri', 'ups04 Eri', 'gam Eri', 'tau09 Eri', 'g Eri', 'e Eri', 'bet Eri', 'tet01 Eri', 'kap Eri', 'tau01 Eri', 'ups01 Eri', 'alf Eri', 'tau04 Eri', 'tau03 Eri', 'omi01 Eri', 'pi. Eri', 'pi. Cet', 'iot Eri', 'eps Eri', 'del Eri', 'nu. Eri', 's Eri', 'chi Eri', 'eta Eri', 'tau05 Eri', 'ups02 Eri', 'd Eri', 'bet For', 'nu. For', 'alf For', 'del Gem', '  1 Gem', 'lam Gem', 'alf Gem', 'eta Gem', 'nu. Gem', 'bet Gem', 'mu. Gem', 'tau Gem', 'iot Gem', 'kap Gem', 'ksi Gem', 'gam Gem', 'zet Gem', 'eps Gem', 'ups Gem', 'tet Gem', 'gam Gru', 'eps Gru', 'lam Gru', 'alf Gru', 'bet Gru', 'zet Gru', 'del01 Gru', 'eps Her', 'pi. Her', 'iot Her', 'bet Her', 'alf Her', 'tet Her', 'chi Her', 'lam Her', 'ksi Her', 'omi Her', 'eta Her', 'rho Her', 'sig Her', 'gam Her', 'zet Her', 'h Her', 'tau Her', 'mu. Her', 'ome Her', 'phi Her', 'del Her', 'alf Hor', 'mu. Hor', 'zet Hor', 'eta Hor', 'iot Hor', 'bet Hor', 'gam Hya', 'eps Hya', 'ups02 Hya', 'rho Hya', 'mu. Hya', 'E Hya', 'ksi Hya', 'iot Hya', 'lam Hya', 'zet Hya', 'ups01 Hya', 'eta Hya', 'pi. Hya', 'bet Hya', 'nu. Hya', 'del Hya', 'sig Hya', 'tet Hya', 'alf Hya', 'alf Hyi', 'bet Hyi', 'gam Hyi', 'eta Ind', 'tet Ind A', 'del Ind', 'alf Ind', 'bet Ind', '  5 Lac', '  1 Lac', 'alf Lac', 'bet Lac', '  6 Lac', 'HD 211073', '  4 Lac', '  2 Lac', ' 11 Lac', ' 46 LMi', ' 30 LMi', ' 10 LMi', ' 21 LMi', 'bet LMi', 'tet Leo', 'lam Leo', 'eps Leo', 'eta Leo', 'mu. Leo', 'del Leo', 'gam01 Leo', 'bet Leo', 'sig Leo', 'kap Leo', 'iot Leo', 'alf Leo', 'zet Leo', 'bet Lep', 'zet Lep', 'mu. Lep', 'lam Lep', 'alf Lep', 'eps Lep', 'kap Lep', 'gam Lep', 'tet Lep', 'eta Lep', 'del Lep', 'tau Lib', 'sig Lib', 'bet Lib', 'gam Lib', 'ups Lib', 'alf02 Lib', 'eps Lup', 'zet Lup', 'del Lup', 'bet Lup', 'chi Lup', 'gam Lup', 'phi01 Lup', 'alf Lup', 'eta Lup', ' 21 Lyn', 'HD  77912', ' 31 Lyn', ' 38 Lyn', ' 15 Lyn', '  2 Lyn', ' 10 UMa', 'alf Lyn', 'del02 Lyr', 'alf Lyr', 'gam Lyr', 'bet Lyr', 'eps01 Lyr', 'zet01 Lyr', ' 18 Mon', 'bet Mon', 'del Mon', 'gam Mon', ' 15 Mon', 'eps Mon A', ' 13 Mon', 'zet Mon', 'alf Mon', 'gam Mus', 'lam Mus', 'alf Mus', 'del Mus', 'eps Mus', 'bet Mus', 'gam02 Nor', 'del Nor', 'eps Nor', 'eta Nor', 'nu. Oct', 'bet Oct', 'del Oct', 'psi Oph', 'phi Oph', 'ups Oph', 'eps Oph', 'nu. Oph', 'd Oph', 'del Oph', 'bet Oph', 'rho Oph', 'eta Oph', 'kap Oph', 'alf Oph', 'chi Oph', 'gam Oph', 'lam Oph', 'zet Oph', 'tet Oph', 'kap Ori', 'pi.04 Ori', 'eta Ori', 'zet Ori', 'chi02 Ori', 'ksi Ori', 'omi02 Ori', 'pi.02 Ori', 'gam Ori', 'bet Ori', 'pi.05 Ori', 'pi.06 Ori', 'chi01 Ori', 'pi.03 Ori', 'del Ori', 'eps Ori', 'mu. Ori', ' 11 Ori', 'lam Ori', 'nu. Ori', 'alf Ori', 'pi.01 Ori', 'alf Pav', 'eps Pav', 'bet Pav', 'zet Pav', 'eta Pav', 'gam Pav', 'lam Pav', 'del Pav', 'pi. Pav', 'ksi Pav', 'kap Pav', 'lam Peg', 'bet Peg', 'kap Peg', 'alf Peg', 'eps Peg', 'gam Peg', 'pi. Peg', 'iot Peg', 'tet Peg', 'mu. Peg', ' 42 Peg', 'eta Peg', 'phi Per', 'mu. Per', 'tau Per', 'gam Per', 'eps Per', 'omi Per', 'b Per', 'alf Per', 'eta Per', 'zet Per', 'c Per', 'rho Per', 'lam Per', 'iot Per', 'del Per', 'kap Per', 'ksi Per', 'tet Per', 'bet Per', 'del Phe', 'zet Phe', 'bet Phe', 'gam Phe', 'alf Phe', 'eps Phe', 'bet Pic', 'alf Pic', 'gam Pic', 'alf Psc', 'iot Psc', 'lam Psc', 'kap Psc', 'gam Psc', 'nu. Psc', 'del Psc', 'phi Psc', 'ome Psc', 'omi Psc', 'eta Psc', 'ups Psc', 'tet Psc', 'eps Psc', 'tau Psc', 'eps PsA', 'alf PsA', 'mu. PsA', 'bet PsA', 'iot PsA', 'gam PsA', 'tet PsA', 'del PsA', 'nu. Pup', 'ksi Pup', 'omi Pup', 'rho Pup', 'p Pup', 'zet Pup', 'k02 Pup', 'pi. Pup', 'l Pup', 'bet Pyx', 'gam Pyx', 'alf Pyx', 'bet Ret', 'del Ret', 'eps Ret', 'alf Ret', 'bet Sge', 'alf Sge', 'gam Sge', 'del Sge', 'ksi02 Sgr', 'phi Sgr', 'gam02 Sgr', 'eps Sgr', 'pi. Sgr', 'mu. Sgr', 'zet Sgr', 'del Sgr', 'sig Sgr', 'tau Sgr', 'eta Sgr', 'omi Sgr', 'lam Sgr', 'rho01 Sgr', 'del Sco', 'ups Sco', 'kap Sco', 'eps Sco', 'iot01 Sco', 'mu.01 Sco', 'lam Sco', 'tau Sco', 'zet02 Sco', 'eta Sco', 'G Sco', 'nu. Sco', 'rho Sco', 'tet Sco', 'pi. Sco', 'sig Sco', 'alf Sco', 'bet01 Sco', 'gam Scl', 'bet Scl', 'del Scl', 'alf Scl', 'bet Sct', 'gam Sct', 'alf Sct', 'del Sct', 'mu. Ser', 'bet Ser', 'del Ser', 'eps Ser', 'tet01 Ser', 'iot Ser', 'alf Ser', 'gam Ser', 'kap Ser', 'ksi Ser', 'eta Ser', 'bet Sex', 'gam Sex', 'del Sex', 'alf Sex', 'alf Tau', 'del Tau', 'lam Tau', 'tet02 Tau', 'eps Tau', 'omi Tau', 'ksi Tau', ' 10 Tau', 'nu. Tau', 'zet Tau', 'gam Tau', 'alf Tel', 'eps Tel', 'zet Tel', 'alf TrA', 'bet TrA', 'gam TrA', 'gam Tri', 'alf Tri', 'bet Tri', 'zet Tuc', 'gam Tuc', 'alf Tuc', 'bet01 Tuc', 'del Tuc', 'eps Tuc', 'chi UMa', 'h UMa', 'gam UMa', 'ksi UMa', 'alf UMa', 'tet UMa', 'kap UMa', 'nu. UMa', 'mu. UMa', 'ups UMa', 'psi UMa', 'eps UMa', 'eta UMa', 'zet01 UMa', 'del UMa', 'bet UMa', 'omi UMa', 'lam UMa', 'iot UMa', 'gam UMi', 'eps UMi', 'zet UMi', 'bet UMi', 'del UMi', 'alf UMi', 'eta UMi', 'q Vel', 'lam Vel', 'phi Vel', 'mu. Vel', 'kap Vel', 'psi Vel', '109 Vir', 'gam Vir', 'omi Vir', 'nu. Vir', 'tet Vir', 'iot Vir', 'eps Vir', 'alf Vir', 'bet Vir', 'tau Vir', 'eta Vir', 'zet Vir', 'del Vir', 'mu. Vir', 'alf Vol', 'gam02 Vol', 'del Vol', 'eps Vol', 'bet Vol', ' 13 Vul A', 'alf Vul']\n",
      "740\n"
     ]
    }
   ],
   "source": [
    "star_constellations = {\n",
    "    star_name: constellation_name\n",
    "    for constellation_name, constellation in constellations.items()\n",
    "    for star_name in constellation.stars\n",
    "}\n",
    "\n",
    "all_stars = list(star_constellations)\n",
    "print(all_stars)\n",
    "print(len(all_stars))"
   ]
  },
  {
   "cell_type": "code",
   "execution_count": 29,
   "id": "201d0808",
   "metadata": {},
   "outputs": [
    {
     "name": "stdout",
     "output_type": "stream",
     "text": [
      " MAIN_ID        RA           DEC      RA_PREC DEC_PREC COO_ERR_MAJA COO_ERR_MINA COO_ERR_ANGLE COO_QUAL COO_WAVELENGTH     COO_BIBCODE     FLUX_V      RA_2         DEC_2     FLUX_V_1      RA_3         DEC_3     SCRIPT_NUMBER_ID\n",
      "             \"h:m:s\"       \"d:m:s\"                         mas          mas           deg                                                   mag      \"h:m:s\"       \"d:m:s\"      mag       \"h:m:s\"       \"d:m:s\"                    \n",
      "--------- ------------- ------------- ------- -------- ------------ ------------ ------------- -------- -------------- ------------------- ------ ------------- ------------- -------- ------------- ------------- ----------------\n",
      "* chi UMa 11 46 03.0140 +47 46 45.855      14       14        0.054        0.088            90        A              O 2020yCat.1350....0G   3.72 11 46 03.0140 +47 46 45.855     3.72 11 46 03.0140 +47 46 45.855                1\n",
      "MAIN_ID       RA           DEC      RA_PREC DEC_PREC COO_ERR_MAJA COO_ERR_MINA COO_ERR_ANGLE COO_QUAL COO_WAVELENGTH     COO_BIBCODE     FLUX_V      RA_2         DEC_2     FLUX_V_1      RA_3         DEC_3     SCRIPT_NUMBER_ID\n",
      "           \"h:m:s\"       \"d:m:s\"                         mas          mas           deg                                                   mag      \"h:m:s\"       \"d:m:s\"      mag       \"h:m:s\"       \"d:m:s\"                    \n",
      "------- ------------- ------------- ------- -------- ------------ ------------ ------------- -------- -------------- ------------------- ------ ------------- ------------- -------- ------------- ------------- ----------------\n",
      "* h UMa 09 31 31.7080 +63 03 42.695      14       14        0.076        0.099            90        A              O 2020yCat.1350....0G   3.67 09 31 31.7080 +63 03 42.695     3.67 09 31 31.7080 +63 03 42.695                2\n",
      " MAIN_ID        RA           DEC      RA_PREC DEC_PREC COO_ERR_MAJA COO_ERR_MINA COO_ERR_ANGLE COO_QUAL COO_WAVELENGTH     COO_BIBCODE     FLUX_V      RA_2         DEC_2     FLUX_V_1      RA_3         DEC_3     SCRIPT_NUMBER_ID\n",
      "             \"h:m:s\"       \"d:m:s\"                         mas          mas           deg                                                   mag      \"h:m:s\"       \"d:m:s\"      mag       \"h:m:s\"       \"d:m:s\"                    \n",
      "--------- ------------- ------------- ------- -------- ------------ ------------ ------------- -------- -------------- ------------------- ------ ------------- ------------- -------- ------------- ------------- ----------------\n",
      "* gam UMa 11 53 49.8473 +53 41 41.135      11       11        0.220        0.250            90        A              O 2007A&A...474..653V   2.44 11 53 49.8473 +53 41 41.135     2.44 11 53 49.8473 +53 41 41.135                3\n",
      " MAIN_ID        RA           DEC      RA_PREC DEC_PREC COO_ERR_MAJA COO_ERR_MINA COO_ERR_ANGLE COO_QUAL COO_WAVELENGTH     COO_BIBCODE     FLUX_V      RA_2         DEC_2     FLUX_V_1      RA_3         DEC_3     SCRIPT_NUMBER_ID\n",
      "             \"h:m:s\"       \"d:m:s\"                         mas          mas           deg                                                   mag      \"h:m:s\"       \"d:m:s\"      mag       \"h:m:s\"       \"d:m:s\"                    \n",
      "--------- ------------- ------------- ------- -------- ------------ ------------ ------------- -------- -------------- ------------------- ------ ------------- ------------- -------- ------------- ------------- ----------------\n",
      "* ksi UMa 11 18 10.9318 +31 31 45.440      10       10       20.000       20.000            90        B              O 2012yCat.1322....0Z   3.79 11 18 10.9318 +31 31 45.440     3.79 11 18 10.9318 +31 31 45.440                4\n",
      " MAIN_ID        RA           DEC      RA_PREC DEC_PREC COO_ERR_MAJA COO_ERR_MINA COO_ERR_ANGLE COO_QUAL COO_WAVELENGTH     COO_BIBCODE     FLUX_V      RA_2         DEC_2     FLUX_V_1      RA_3         DEC_3     SCRIPT_NUMBER_ID\n",
      "             \"h:m:s\"       \"d:m:s\"                         mas          mas           deg                                                   mag      \"h:m:s\"       \"d:m:s\"      mag       \"h:m:s\"       \"d:m:s\"                    \n",
      "--------- ------------- ------------- ------- -------- ------------ ------------ ------------- -------- -------------- ------------------- ------ ------------- ------------- -------- ------------- ------------- ----------------\n",
      "* alf UMa 11 03 43.6715 +61 45 03.724       9        9        3.430        3.080            90        A              O 2007A&A...474..653V   1.79 11 03 43.6715 +61 45 03.724     1.79 11 03 43.6715 +61 45 03.724                5\n",
      " MAIN_ID        RA           DEC      RA_PREC DEC_PREC COO_ERR_MAJA COO_ERR_MINA COO_ERR_ANGLE COO_QUAL COO_WAVELENGTH     COO_BIBCODE     FLUX_V      RA_2         DEC_2     FLUX_V_1      RA_3         DEC_3     SCRIPT_NUMBER_ID\n",
      "             \"h:m:s\"       \"d:m:s\"                         mas          mas           deg                                                   mag      \"h:m:s\"       \"d:m:s\"      mag       \"h:m:s\"       \"d:m:s\"                    \n",
      "--------- ------------- ------------- ------- -------- ------------ ------------ ------------- -------- -------------- ------------------- ------ ------------- ------------- -------- ------------- ------------- ----------------\n",
      "* tet UMa 09 32 51.4309 +51 40 38.333      14       14        0.135        0.132            90        A              O 2020yCat.1350....0G   3.18 09 32 51.4309 +51 40 38.333     3.18 09 32 51.4309 +51 40 38.333                6\n",
      " MAIN_ID        RA           DEC      RA_PREC DEC_PREC COO_ERR_MAJA COO_ERR_MINA COO_ERR_ANGLE COO_QUAL COO_WAVELENGTH     COO_BIBCODE     FLUX_V      RA_2         DEC_2     FLUX_V_1      RA_3         DEC_3     SCRIPT_NUMBER_ID\n",
      "             \"h:m:s\"       \"d:m:s\"                         mas          mas           deg                                                   mag      \"h:m:s\"       \"d:m:s\"      mag       \"h:m:s\"       \"d:m:s\"                    \n",
      "--------- ------------- ------------- ------- -------- ------------ ------------ ------------- -------- -------------- ------------------- ------ ------------- ------------- -------- ------------- ------------- ----------------\n",
      "* kap UMa 09 03 37.5276 +47 09 23.489       9        9        4.220        2.820            90        A              O 2007A&A...474..653V   3.55 09 03 37.5276 +47 09 23.489     3.55 09 03 37.5276 +47 09 23.489                7\n",
      " MAIN_ID        RA           DEC      RA_PREC DEC_PREC COO_ERR_MAJA COO_ERR_MINA COO_ERR_ANGLE COO_QUAL COO_WAVELENGTH     COO_BIBCODE     FLUX_V      RA_2         DEC_2     FLUX_V_1      RA_3         DEC_3     SCRIPT_NUMBER_ID\n",
      "             \"h:m:s\"       \"d:m:s\"                         mas          mas           deg                                                   mag      \"h:m:s\"       \"d:m:s\"      mag       \"h:m:s\"       \"d:m:s\"                    \n",
      "--------- ------------- ------------- ------- -------- ------------ ------------ ------------- -------- -------------- ------------------- ------ ------------- ------------- -------- ------------- ------------- ----------------\n",
      "* nu. UMa 11 18 28.7372 +33 05 39.501      14       14        0.184        0.358            90        A              O 2020yCat.1350....0G   3.49 11 18 28.7372 +33 05 39.501     3.49 11 18 28.7372 +33 05 39.501                8\n",
      " MAIN_ID        RA           DEC      RA_PREC DEC_PREC COO_ERR_MAJA COO_ERR_MINA COO_ERR_ANGLE COO_QUAL COO_WAVELENGTH     COO_BIBCODE     FLUX_V      RA_2         DEC_2     FLUX_V_1      RA_3         DEC_3     SCRIPT_NUMBER_ID\n",
      "             \"h:m:s\"       \"d:m:s\"                         mas          mas           deg                                                   mag      \"h:m:s\"       \"d:m:s\"      mag       \"h:m:s\"       \"d:m:s\"                    \n",
      "--------- ------------- ------------- ------- -------- ------------ ------------ ------------- -------- -------------- ------------------- ------ ------------- ------------- -------- ------------- ------------- ----------------\n",
      "* mu. UMa 10 22 19.7276 +41 29 58.337      14       14        0.234        0.282            90        A              O 2020yCat.1350....0G   3.05 10 22 19.7276 +41 29 58.337     3.05 10 22 19.7276 +41 29 58.337                9\n",
      " MAIN_ID        RA           DEC      RA_PREC DEC_PREC COO_ERR_MAJA COO_ERR_MINA COO_ERR_ANGLE COO_QUAL COO_WAVELENGTH     COO_BIBCODE     FLUX_V      RA_2         DEC_2     FLUX_V_1      RA_3         DEC_3     SCRIPT_NUMBER_ID\n",
      "             \"h:m:s\"       \"d:m:s\"                         mas          mas           deg                                                   mag      \"h:m:s\"       \"d:m:s\"      mag       \"h:m:s\"       \"d:m:s\"                    \n",
      "--------- ------------- ------------- ------- -------- ------------ ------------ ------------- -------- -------------- ------------------- ------ ------------- ------------- -------- ------------- ------------- ----------------\n",
      "* ups UMa 09 50 59.3580 +59 02 19.441      14       14        0.088        0.109            90        A              O 2020yCat.1350....0G   3.81 09 50 59.3580 +59 02 19.441     3.81 09 50 59.3580 +59 02 19.441               10\n",
      " MAIN_ID        RA           DEC      RA_PREC DEC_PREC COO_ERR_MAJA COO_ERR_MINA COO_ERR_ANGLE COO_QUAL COO_WAVELENGTH     COO_BIBCODE     FLUX_V      RA_2         DEC_2     FLUX_V_1      RA_3         DEC_3     SCRIPT_NUMBER_ID\n",
      "             \"h:m:s\"       \"d:m:s\"                         mas          mas           deg                                                   mag      \"h:m:s\"       \"d:m:s\"      mag       \"h:m:s\"       \"d:m:s\"                    \n",
      "--------- ------------- ------------- ------- -------- ------------ ------------ ------------- -------- -------------- ------------------- ------ ------------- ------------- -------- ------------- ------------- ----------------\n",
      "* psi UMa 11 09 39.8082 +44 29 54.555      14       14        0.110        0.218            90        A              O 2020yCat.1350....0G   3.01 11 09 39.8082 +44 29 54.555     3.01 11 09 39.8082 +44 29 54.555               11\n",
      " MAIN_ID        RA           DEC      RA_PREC DEC_PREC COO_ERR_MAJA COO_ERR_MINA COO_ERR_ANGLE COO_QUAL COO_WAVELENGTH     COO_BIBCODE     FLUX_V      RA_2         DEC_2     FLUX_V_1      RA_3         DEC_3     SCRIPT_NUMBER_ID\n",
      "             \"h:m:s\"       \"d:m:s\"                         mas          mas           deg                                                   mag      \"h:m:s\"       \"d:m:s\"      mag       \"h:m:s\"       \"d:m:s\"                    \n",
      "--------- ------------- ------------- ------- -------- ------------ ------------ ------------- -------- -------------- ------------------- ------ ------------- ------------- -------- ------------- ------------- ----------------\n",
      "* eps UMa 12 54 01.7495 +55 57 35.362      11       11        0.160        0.150            90        A              O 2007A&A...474..653V   1.77 12 54 01.7495 +55 57 35.362     1.77 12 54 01.7495 +55 57 35.362               12\n",
      " MAIN_ID        RA           DEC      RA_PREC DEC_PREC COO_ERR_MAJA COO_ERR_MINA COO_ERR_ANGLE COO_QUAL COO_WAVELENGTH     COO_BIBCODE     FLUX_V      RA_2         DEC_2     FLUX_V_1      RA_3         DEC_3     SCRIPT_NUMBER_ID\n",
      "             \"h:m:s\"       \"d:m:s\"                         mas          mas           deg                                                   mag      \"h:m:s\"       \"d:m:s\"      mag       \"h:m:s\"       \"d:m:s\"                    \n",
      "--------- ------------- ------------- ------- -------- ------------ ------------ ------------- -------- -------------- ------------------- ------ ------------- ------------- -------- ------------- ------------- ----------------\n",
      "* eta UMa 13 47 32.4377 +49 18 47.760       9        9        1.500        1.320            89        A              O 2007A&A...474..653V   1.86 13 47 32.4377 +49 18 47.760     1.86 13 47 32.4377 +49 18 47.760               13\n",
      "  MAIN_ID         RA           DEC      RA_PREC DEC_PREC COO_ERR_MAJA COO_ERR_MINA COO_ERR_ANGLE COO_QUAL COO_WAVELENGTH     COO_BIBCODE     FLUX_V      RA_2         DEC_2     FLUX_V_1      RA_3         DEC_3     SCRIPT_NUMBER_ID\n",
      "               \"h:m:s\"       \"d:m:s\"                         mas          mas           deg                                                   mag      \"h:m:s\"       \"d:m:s\"      mag       \"h:m:s\"       \"d:m:s\"                    \n",
      "----------- ------------- ------------- ------- -------- ------------ ------------ ------------- -------- -------------- ------------------- ------ ------------- ------------- -------- ------------- ------------- ----------------\n",
      "* zet01 UMa 13 23 55.5422 +54 55 31.295      14       14        0.262        0.548            90        A              O 2020yCat.1350....0G   2.22 13 23 55.5422 +54 55 31.295     2.22 13 23 55.5422 +54 55 31.295               14\n",
      " MAIN_ID        RA           DEC      RA_PREC DEC_PREC COO_ERR_MAJA COO_ERR_MINA COO_ERR_ANGLE COO_QUAL COO_WAVELENGTH     COO_BIBCODE     FLUX_V      RA_2         DEC_2     FLUX_V_1      RA_3         DEC_3     SCRIPT_NUMBER_ID\n",
      "             \"h:m:s\"       \"d:m:s\"                         mas          mas           deg                                                   mag      \"h:m:s\"       \"d:m:s\"      mag       \"h:m:s\"       \"d:m:s\"                    \n",
      "--------- ------------- ------------- ------- -------- ------------ ------------ ------------- -------- -------------- ------------------- ------ ------------- ------------- -------- ------------- ------------- ----------------\n",
      "* del UMa 12 15 25.5598 +57 01 57.421      14       14        0.132        0.142            90        A              O 2020yCat.1350....0G   3.32 12 15 25.5598 +57 01 57.421     3.32 12 15 25.5598 +57 01 57.421               15\n",
      " MAIN_ID        RA           DEC      RA_PREC DEC_PREC COO_ERR_MAJA COO_ERR_MINA COO_ERR_ANGLE COO_QUAL COO_WAVELENGTH     COO_BIBCODE     FLUX_V      RA_2         DEC_2     FLUX_V_1      RA_3         DEC_3     SCRIPT_NUMBER_ID\n",
      "             \"h:m:s\"       \"d:m:s\"                         mas          mas           deg                                                   mag      \"h:m:s\"       \"d:m:s\"      mag       \"h:m:s\"       \"d:m:s\"                    \n",
      "--------- ------------- ------------- ------- -------- ------------ ------------ ------------- -------- -------------- ------------------- ------ ------------- ------------- -------- ------------- ------------- ----------------\n",
      "* bet UMa 11 01 50.4797 +56 22 56.761      14       14        0.513        0.507            90        A              O 2020yCat.1350....0G   2.37 11 01 50.4797 +56 22 56.761     2.37 11 01 50.4797 +56 22 56.761               16\n",
      " MAIN_ID        RA           DEC      RA_PREC DEC_PREC COO_ERR_MAJA COO_ERR_MINA COO_ERR_ANGLE COO_QUAL COO_WAVELENGTH     COO_BIBCODE     FLUX_V      RA_2         DEC_2     FLUX_V_1      RA_3         DEC_3     SCRIPT_NUMBER_ID\n",
      "             \"h:m:s\"       \"d:m:s\"                         mas          mas           deg                                                   mag      \"h:m:s\"       \"d:m:s\"      mag       \"h:m:s\"       \"d:m:s\"                    \n",
      "--------- ------------- ------------- ------- -------- ------------ ------------ ------------- -------- -------------- ------------------- ------ ------------- ------------- -------- ------------- ------------- ----------------\n",
      "* omi UMa 08 30 15.8701 +60 43 05.405      14       14        0.086        0.089            90        A              O 2020yCat.1350....0G   3.42 08 30 15.8701 +60 43 05.405     3.42 08 30 15.8701 +60 43 05.405               17\n",
      " MAIN_ID        RA           DEC      RA_PREC DEC_PREC COO_ERR_MAJA COO_ERR_MINA COO_ERR_ANGLE COO_QUAL COO_WAVELENGTH     COO_BIBCODE     FLUX_V      RA_2         DEC_2     FLUX_V_1      RA_3         DEC_3     SCRIPT_NUMBER_ID\n",
      "             \"h:m:s\"       \"d:m:s\"                         mas          mas           deg                                                   mag      \"h:m:s\"       \"d:m:s\"      mag       \"h:m:s\"       \"d:m:s\"                    \n",
      "--------- ------------- ------------- ------- -------- ------------ ------------ ------------- -------- -------------- ------------------- ------ ------------- ------------- -------- ------------- ------------- ----------------\n",
      "* lam UMa 10 17 05.7792 +42 54 51.889      14       14        0.433        0.547            90        A              O 2020yCat.1350....0G   3.45 10 17 05.7792 +42 54 51.889     3.45 10 17 05.7792 +42 54 51.889               18\n",
      " MAIN_ID        RA           DEC      RA_PREC DEC_PREC COO_ERR_MAJA COO_ERR_MINA COO_ERR_ANGLE COO_QUAL COO_WAVELENGTH     COO_BIBCODE     FLUX_V      RA_2         DEC_2     FLUX_V_1      RA_3         DEC_3     SCRIPT_NUMBER_ID\n",
      "             \"h:m:s\"       \"d:m:s\"                         mas          mas           deg                                                   mag      \"h:m:s\"       \"d:m:s\"      mag       \"h:m:s\"       \"d:m:s\"                    \n",
      "--------- ------------- ------------- ------- -------- ------------ ------------ ------------- -------- -------------- ------------------- ------ ------------- ------------- -------- ------------- ------------- ----------------\n",
      "* iot UMa 08 59 12.4536 +48 02 30.574       9        9        1.490        0.800            90        A              O 2007A&A...474..653V   3.14 08 59 12.4536 +48 02 30.574     3.14 08 59 12.4536 +48 02 30.574               19\n"
     ]
    }
   ],
   "source": [
    "for r in result:\n",
    "    print(r)"
   ]
  },
  {
   "cell_type": "code",
   "execution_count": 30,
   "id": "63a63fcf",
   "metadata": {},
   "outputs": [
    {
     "name": "stdout",
     "output_type": "stream",
     "text": [
      "FLUX_V\n",
      " mag  \n",
      "------\n",
      "  3.72\n",
      "  3.67\n",
      "  2.44\n",
      "  3.79\n",
      "  1.79\n",
      "  3.18\n",
      "  3.55\n",
      "  3.49\n",
      "  3.05\n",
      "  3.81\n",
      "  3.01\n",
      "  1.77\n",
      "  1.86\n",
      "  2.22\n",
      "  3.32\n",
      "  2.37\n",
      "  3.42\n",
      "  3.45\n",
      "  3.14\n"
     ]
    }
   ],
   "source": [
    "print(result[\"FLUX_V\"])"
   ]
  },
  {
   "cell_type": "code",
   "execution_count": 22,
   "id": "28fadbfb",
   "metadata": {},
   "outputs": [],
   "source": [
    "from pydantic import BaseModel\n",
    "class SimbadStarData(BaseModel):\n",
    "    name: str\n",
    "    constellation: str\n",
    "    ra: float\n",
    "    dec: float\n",
    "    mag: float\n",
    "    distance: float\n"
   ]
  },
  {
   "cell_type": "code",
   "execution_count": 14,
   "id": "0892d9bf",
   "metadata": {},
   "outputs": [],
   "source": [
    "constellations = read_constellations()\n",
    "star_constellations = {\n",
    "    star_name: constellation_name\n",
    "    for constellation_name, constellation in constellations.items()\n",
    "    for star_name in constellation.stars\n",
    "}\n",
    "\n",
    "all_star_names = list(star_constellations)\n",
    "\n",
    "Simbad.add_votable_fields(\"flux(V)\", \"ra\", \"dec\", \"plx\")\n",
    "simbad_results = Simbad.query_objects(all_star_names)\n",
    "\n",
    "coords = SkyCoord(ra=simbad_results[\"RA\"], dec=simbad_results[\"DEC\"], unit=(u.hourangle, u.deg))\n"
   ]
  },
  {
   "cell_type": "code",
   "execution_count": 23,
   "id": "6e2bf44b",
   "metadata": {},
   "outputs": [
    {
     "name": "stderr",
     "output_type": "stream",
     "text": [
      "/usr/local/lib/python3.12/site-packages/pydantic/main.py:253: UserWarning: Warning: converting a masked element to nan.\n",
      "  validated_self = self.__pydantic_validator__.validate_python(data, self_instance=self)\n"
     ]
    }
   ],
   "source": [
    "stars = [\n",
    "    SimbadStarData(\n",
    "        name=name,\n",
    "        constellation=constellation,\n",
    "        ra=coord.ra.deg,\n",
    "        dec=coord.dec.deg,\n",
    "        mag=mag,\n",
    "        distance=1000/plx\n",
    "    )\n",
    "    for (name, constellation), mag, coord, plx in zip(star_constellations.items(), simbad_results[\"FLUX_V\"], coords, simbad_results[\"PLX_VALUE\"])\n",
    "]\n"
   ]
  },
  {
   "cell_type": "code",
   "execution_count": 24,
   "id": "63d29311",
   "metadata": {},
   "outputs": [],
   "source": [
    "import polars\n",
    "df = polars.DataFrame([s.model_dump() for s in stars])\n",
    "df.write_csv(\"data/constellation_stars.csv\")"
   ]
  }
 ],
 "metadata": {
  "kernelspec": {
   "display_name": "Python 3",
   "language": "python",
   "name": "python3"
  },
  "language_info": {
   "codemirror_mode": {
    "name": "ipython",
    "version": 3
   },
   "file_extension": ".py",
   "mimetype": "text/x-python",
   "name": "python",
   "nbconvert_exporter": "python",
   "pygments_lexer": "ipython3",
   "version": "3.12.10"
  }
 },
 "nbformat": 4,
 "nbformat_minor": 5
}
